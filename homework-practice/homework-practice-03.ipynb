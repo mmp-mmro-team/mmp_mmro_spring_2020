{
 "cells": [
  {
   "cell_type": "markdown",
   "metadata": {
    "colab_type": "text",
    "id": "cn3m4vpTzd-f"
   },
   "source": [
    "# Машинное обучение, ВМК МГУ\n",
    "\n",
    "## Практическое задание 10. Рекомендательные системы\n",
    "\n",
    "### Общая информация\n",
    "\n",
    "Дата выдачи: 23.05.2020  \n",
    "\n",
    "Мягкий дедлайн: 23:59MSK 05.06.2020 (за каждый день просрочки снимается 1 балл)\n",
    "\n",
    "Жесткий дедлайн: 23:59MSK 12.05.2020\n"
   ]
  },
  {
   "cell_type": "markdown",
   "metadata": {
    "colab_type": "text",
    "id": "B7erbtKozd-g"
   },
   "source": [
    "### О задании\n",
    "В этом задании мы будем практиковаться в построении рекомендательных систем: научимся считать метрики и пообучаем модели.\n",
    "\n",
    "### Оценивание и штрафы\n",
    "Каждая из задач имеет определенную «стоимость» (указана в скобках около задачи). Максимально допустимая оценка за работу — 10 баллов. Проверяющий имеет право снизить оценку за неэффективную реализацию или неопрятные графики.\n",
    "\n",
    "**Обратите внимание**, что в каждом разделе домашнего задания есть оцениваниемые задачи и есть вопросы. Вопросы дополняют задачи и направлены на то, чтобы проинтерпретировать или обосновать происходящее. Код без интерпретации не имеет смысла, поэтому отвечать на вопросы обязательно — за отсутствие ответов мы будем снижать баллы за задачи. Если вы ответите на вопросы, но не напишете корректный код к соответствующим оцениваемым задачам, то баллы за такое выставлены не будут.\n",
    "\n",
    "Сдавать задание после указанного срока сдачи нельзя. При выставлении неполного балла за задание в связи с наличием ошибок на усмотрение проверяющего предусмотрена возможность исправить работу на указанных в ответном письме условиях.\n",
    "\n",
    "Задание выполняется самостоятельно. «Похожие» решения считаются плагиатом и все задействованные студенты (в том числе те, у кого списали) не могут получить за него больше 0 баллов (подробнее о плагиате см. на странице курса). Если вы нашли решение какого-то из заданий (или его часть) в открытом источнике, необходимо указать ссылку на этот источник в отдельном блоке в конце вашей работы (скорее всего вы будете не единственным, кто это нашел, поэтому чтобы исключить подозрение в плагиате, необходима ссылка на источник).\n",
    "\n",
    "### Формат сдачи\n",
    "Задания сдаются через систему Anytask. Инвайт можно найти на странице курса. Присылать необходимо ноутбук с выполненным заданием. "
   ]
  },
  {
   "cell_type": "code",
   "execution_count": 0,
   "metadata": {
    "colab": {},
    "colab_type": "code",
    "id": "Ash475YSzd-h"
   },
   "outputs": [],
   "source": [
    "import numpy as np\n",
    "import pandas as pd\n",
    "from sklearn.model_selection import train_test_split\n",
    "import tqdm"
   ]
  },
  {
   "cell_type": "markdown",
   "metadata": {
    "colab_type": "text",
    "id": "udVpN6NXzd-l"
   },
   "source": [
    "### Данные\n",
    "\n",
    "Будем работать с датасетом  от онлайн-кинотеатра Okko [REKKO CHALLENGE](https://boosters.pro/championship/rekko_challenge/data)."
   ]
  },
  {
   "cell_type": "markdown",
   "metadata": {
    "colab_type": "text",
    "id": "siiEUo1Fzd-m"
   },
   "source": [
    "Имеющиеся данные содержат несколько файлов. Рассмотрим всё, что у нас есть."
   ]
  },
  {
   "cell_type": "markdown",
   "metadata": {
    "colab_type": "text",
    "id": "_3b75F5Azd-n"
   },
   "source": [
    "`catalogue.json` содержит анонимизированную метаинформацию о доступных в сервисе фильмах и сериалах:"
   ]
  },
  {
   "cell_type": "code",
   "execution_count": 0,
   "metadata": {
    "colab": {},
    "colab_type": "code",
    "id": "F16ixUEZzd-o"
   },
   "outputs": [],
   "source": [
    "catalogue = pd.read_json('data/catalogue.json').T"
   ]
  },
  {
   "cell_type": "code",
   "execution_count": 0,
   "metadata": {
    "colab": {},
    "colab_type": "code",
    "id": "aDEclZBmzd-s"
   },
   "outputs": [],
   "source": [
    "catalogue['element_uid'] = catalogue.index"
   ]
  },
  {
   "cell_type": "code",
   "execution_count": 0,
   "metadata": {
    "colab": {},
    "colab_type": "code",
    "id": "6qGGga6Yzd-z",
    "outputId": "4f333cca-733f-42fe-f241-e57b2d84b2b5"
   },
   "outputs": [
    {
     "data": {
      "text/html": [
       "<div>\n",
       "<style scoped>\n",
       "    .dataframe tbody tr th:only-of-type {\n",
       "        vertical-align: middle;\n",
       "    }\n",
       "\n",
       "    .dataframe tbody tr th {\n",
       "        vertical-align: top;\n",
       "    }\n",
       "\n",
       "    .dataframe thead th {\n",
       "        text-align: right;\n",
       "    }\n",
       "</style>\n",
       "<table border=\"1\" class=\"dataframe\">\n",
       "  <thead>\n",
       "    <tr style=\"text-align: right;\">\n",
       "      <th></th>\n",
       "      <th>attributes</th>\n",
       "      <th>availability</th>\n",
       "      <th>duration</th>\n",
       "      <th>feature_1</th>\n",
       "      <th>feature_2</th>\n",
       "      <th>feature_3</th>\n",
       "      <th>feature_4</th>\n",
       "      <th>feature_5</th>\n",
       "      <th>type</th>\n",
       "      <th>element_uid</th>\n",
       "    </tr>\n",
       "  </thead>\n",
       "  <tbody>\n",
       "    <tr>\n",
       "      <th>0</th>\n",
       "      <td>[31115, 6713, 10906, 31116, 31117, 270, 24431,...</td>\n",
       "      <td>[]</td>\n",
       "      <td>80</td>\n",
       "      <td>2.9122e+07</td>\n",
       "      <td>0.57526</td>\n",
       "      <td>0</td>\n",
       "      <td>1.12833</td>\n",
       "      <td>0.654707</td>\n",
       "      <td>movie</td>\n",
       "      <td>0</td>\n",
       "    </tr>\n",
       "    <tr>\n",
       "      <th>1</th>\n",
       "      <td>[2786, 385, 2799, 3730, 886, 7, 11700, 42, 20,...</td>\n",
       "      <td>[purchase, rent]</td>\n",
       "      <td>120</td>\n",
       "      <td>6.61043e+06</td>\n",
       "      <td>0.773224</td>\n",
       "      <td>3</td>\n",
       "      <td>1.11201</td>\n",
       "      <td>0.654707</td>\n",
       "      <td>movie</td>\n",
       "      <td>1</td>\n",
       "    </tr>\n",
       "    <tr>\n",
       "      <th>10</th>\n",
       "      <td>[10511, 2752, 9076, 1373, 472, 7, 10512, 42, 4...</td>\n",
       "      <td>[]</td>\n",
       "      <td>100</td>\n",
       "      <td>1.66661e+07</td>\n",
       "      <td>0.700997</td>\n",
       "      <td>0</td>\n",
       "      <td>1.13008</td>\n",
       "      <td>0.654707</td>\n",
       "      <td>movie</td>\n",
       "      <td>10</td>\n",
       "    </tr>\n",
       "    <tr>\n",
       "      <th>100</th>\n",
       "      <td>[18441, 16300, 16580, 18770, 18771, 18643, 396...</td>\n",
       "      <td>[purchase, rent]</td>\n",
       "      <td>80</td>\n",
       "      <td>6.06474e+06</td>\n",
       "      <td>0.752751</td>\n",
       "      <td>4</td>\n",
       "      <td>0.95371</td>\n",
       "      <td>0</td>\n",
       "      <td>movie</td>\n",
       "      <td>100</td>\n",
       "    </tr>\n",
       "    <tr>\n",
       "      <th>1000</th>\n",
       "      <td>[1256, 441, 19806, 15224, 16708, 83, 336, 1980...</td>\n",
       "      <td>[]</td>\n",
       "      <td>80</td>\n",
       "      <td>9.11502e+06</td>\n",
       "      <td>0.689883</td>\n",
       "      <td>0</td>\n",
       "      <td>1.12833</td>\n",
       "      <td>0.68041</td>\n",
       "      <td>movie</td>\n",
       "      <td>1000</td>\n",
       "    </tr>\n",
       "  </tbody>\n",
       "</table>\n",
       "</div>"
      ],
      "text/plain": [
       "                                             attributes      availability  \\\n",
       "0     [31115, 6713, 10906, 31116, 31117, 270, 24431,...                []   \n",
       "1     [2786, 385, 2799, 3730, 886, 7, 11700, 42, 20,...  [purchase, rent]   \n",
       "10    [10511, 2752, 9076, 1373, 472, 7, 10512, 42, 4...                []   \n",
       "100   [18441, 16300, 16580, 18770, 18771, 18643, 396...  [purchase, rent]   \n",
       "1000  [1256, 441, 19806, 15224, 16708, 83, 336, 1980...                []   \n",
       "\n",
       "     duration    feature_1 feature_2 feature_3 feature_4 feature_5   type  \\\n",
       "0          80   2.9122e+07   0.57526         0   1.12833  0.654707  movie   \n",
       "1         120  6.61043e+06  0.773224         3   1.11201  0.654707  movie   \n",
       "10        100  1.66661e+07  0.700997         0   1.13008  0.654707  movie   \n",
       "100        80  6.06474e+06  0.752751         4   0.95371         0  movie   \n",
       "1000       80  9.11502e+06  0.689883         0   1.12833   0.68041  movie   \n",
       "\n",
       "      element_uid  \n",
       "0               0  \n",
       "1               1  \n",
       "10             10  \n",
       "100           100  \n",
       "1000         1000  "
      ]
     },
     "execution_count": 165,
     "metadata": {
      "tags": []
     },
     "output_type": "execute_result"
    }
   ],
   "source": [
    "catalogue.head()"
   ]
  },
  {
   "cell_type": "markdown",
   "metadata": {
    "colab_type": "text",
    "id": "zsA6f08Ozd-2"
   },
   "source": [
    " - `attributes` — мешок атрибутов;\n",
    " - `availability` — доступность (может содержать значения `purchase`, `rent` и `subscription`);\n",
    " - `duration` — длительность фильма (для сериалов и многосерийных фильмов — длительность серии) в минутах, округлённая до десятков;\n",
    " - `feature_1..5` — пять анонимизированных вещественных и порядковых признаков;\n",
    " - `type` — принимает значения `movie`, `multipart_movie` или `series`."
   ]
  },
  {
   "cell_type": "markdown",
   "metadata": {
    "colab_type": "text",
    "id": "x5UuKuGSzd-2"
   },
   "source": [
    "`transactions.csv` — список всех транзакций за определённый период времени:"
   ]
  },
  {
   "cell_type": "code",
   "execution_count": 0,
   "metadata": {
    "colab": {},
    "colab_type": "code",
    "id": "oS10OaPyzd-3"
   },
   "outputs": [],
   "source": [
    "transactions = pd.read_csv('data/transactions.csv',\n",
    "    dtype={\n",
    "        'element_uid': np.uint16,\n",
    "        'user_uid': np.uint32,\n",
    "        'consumption_mode': 'category',\n",
    "        'ts': np.float64,\n",
    "        'watched_time': np.uint64,\n",
    "        'device_type': np.uint8,\n",
    "        'device_manufacturer': np.uint8\n",
    "    }\n",
    ")"
   ]
  },
  {
   "cell_type": "code",
   "execution_count": 0,
   "metadata": {
    "colab": {},
    "colab_type": "code",
    "id": "FlXf3n_1zd-7",
    "outputId": "3a414079-b3c6-4705-cdb3-eb883f619a58"
   },
   "outputs": [
    {
     "data": {
      "text/html": [
       "<div>\n",
       "<style scoped>\n",
       "    .dataframe tbody tr th:only-of-type {\n",
       "        vertical-align: middle;\n",
       "    }\n",
       "\n",
       "    .dataframe tbody tr th {\n",
       "        vertical-align: top;\n",
       "    }\n",
       "\n",
       "    .dataframe thead th {\n",
       "        text-align: right;\n",
       "    }\n",
       "</style>\n",
       "<table border=\"1\" class=\"dataframe\">\n",
       "  <thead>\n",
       "    <tr style=\"text-align: right;\">\n",
       "      <th></th>\n",
       "      <th>element_uid</th>\n",
       "      <th>user_uid</th>\n",
       "      <th>consumption_mode</th>\n",
       "      <th>ts</th>\n",
       "      <th>watched_time</th>\n",
       "      <th>device_type</th>\n",
       "      <th>device_manufacturer</th>\n",
       "    </tr>\n",
       "  </thead>\n",
       "  <tbody>\n",
       "    <tr>\n",
       "      <th>0</th>\n",
       "      <td>3336</td>\n",
       "      <td>5177</td>\n",
       "      <td>S</td>\n",
       "      <td>4.430518e+07</td>\n",
       "      <td>4282</td>\n",
       "      <td>0</td>\n",
       "      <td>50</td>\n",
       "    </tr>\n",
       "    <tr>\n",
       "      <th>1</th>\n",
       "      <td>481</td>\n",
       "      <td>593316</td>\n",
       "      <td>S</td>\n",
       "      <td>4.430518e+07</td>\n",
       "      <td>2989</td>\n",
       "      <td>0</td>\n",
       "      <td>11</td>\n",
       "    </tr>\n",
       "    <tr>\n",
       "      <th>2</th>\n",
       "      <td>4128</td>\n",
       "      <td>262355</td>\n",
       "      <td>S</td>\n",
       "      <td>4.430518e+07</td>\n",
       "      <td>833</td>\n",
       "      <td>0</td>\n",
       "      <td>50</td>\n",
       "    </tr>\n",
       "    <tr>\n",
       "      <th>3</th>\n",
       "      <td>6272</td>\n",
       "      <td>74296</td>\n",
       "      <td>S</td>\n",
       "      <td>4.430518e+07</td>\n",
       "      <td>2530</td>\n",
       "      <td>0</td>\n",
       "      <td>99</td>\n",
       "    </tr>\n",
       "    <tr>\n",
       "      <th>4</th>\n",
       "      <td>5543</td>\n",
       "      <td>340623</td>\n",
       "      <td>P</td>\n",
       "      <td>4.430518e+07</td>\n",
       "      <td>6282</td>\n",
       "      <td>0</td>\n",
       "      <td>50</td>\n",
       "    </tr>\n",
       "  </tbody>\n",
       "</table>\n",
       "</div>"
      ],
      "text/plain": [
       "   element_uid  user_uid consumption_mode            ts  watched_time  \\\n",
       "0         3336      5177                S  4.430518e+07          4282   \n",
       "1          481    593316                S  4.430518e+07          2989   \n",
       "2         4128    262355                S  4.430518e+07           833   \n",
       "3         6272     74296                S  4.430518e+07          2530   \n",
       "4         5543    340623                P  4.430518e+07          6282   \n",
       "\n",
       "   device_type  device_manufacturer  \n",
       "0            0                   50  \n",
       "1            0                   11  \n",
       "2            0                   50  \n",
       "3            0                   99  \n",
       "4            0                   50  "
      ]
     },
     "execution_count": 167,
     "metadata": {
      "tags": []
     },
     "output_type": "execute_result"
    }
   ],
   "source": [
    "transactions.head()"
   ]
  },
  {
   "cell_type": "code",
   "execution_count": 0,
   "metadata": {
    "colab": {},
    "colab_type": "code",
    "id": "8Iy6oiOyzd-9",
    "outputId": "3d53b4f4-e943-4331-8490-1ca3c5429806"
   },
   "outputs": [
    {
     "data": {
      "text/plain": [
       "(9643012, 7)"
      ]
     },
     "execution_count": 168,
     "metadata": {
      "tags": []
     },
     "output_type": "execute_result"
    }
   ],
   "source": [
    "transactions.shape"
   ]
  },
  {
   "cell_type": "markdown",
   "metadata": {
    "colab_type": "text",
    "id": "JjTKhzeZzd_A"
   },
   "source": [
    " - `element_uid` — идентификатор элемента (фильма);\n",
    " - `user_uid` — идентификатор пользователя;\n",
    " - `consumption_mode` — тип потребления (`P` — покупка, `R` — аренда, `S` — просмотр по подписке);\n",
    " - `ts` — время совершения транзакции или начала просмотра в случае просмотра по подписке;\n",
    " - `watched_time` — число просмотренных по транзакции секунд;\n",
    " - `device_type` — анонимизированный тип устройства, с которого была совершена транзакция или начат просмотр;\n",
    " - `device_manufacturer` — анонимизированный производитель устройства, с которого была совершена транзакция или начат просмотр."
   ]
  },
  {
   "cell_type": "markdown",
   "metadata": {
    "colab_type": "text",
    "id": "0vEPq0q2zd_A"
   },
   "source": [
    "`ratings.csv` содержит информацию о поставленных пользователями оценках:"
   ]
  },
  {
   "cell_type": "code",
   "execution_count": 0,
   "metadata": {
    "colab": {},
    "colab_type": "code",
    "id": "gP-Gy4Enzd_B"
   },
   "outputs": [],
   "source": [
    "ratings = pd.read_csv('data/ratings.csv')"
   ]
  },
  {
   "cell_type": "code",
   "execution_count": 0,
   "metadata": {
    "colab": {},
    "colab_type": "code",
    "id": "PvFr8mUZzd_D",
    "outputId": "ab5b8dad-5b3c-4cbb-d349-a3afbb4ee61d"
   },
   "outputs": [
    {
     "data": {
      "text/html": [
       "<div>\n",
       "<style scoped>\n",
       "    .dataframe tbody tr th:only-of-type {\n",
       "        vertical-align: middle;\n",
       "    }\n",
       "\n",
       "    .dataframe tbody tr th {\n",
       "        vertical-align: top;\n",
       "    }\n",
       "\n",
       "    .dataframe thead th {\n",
       "        text-align: right;\n",
       "    }\n",
       "</style>\n",
       "<table border=\"1\" class=\"dataframe\">\n",
       "  <thead>\n",
       "    <tr style=\"text-align: right;\">\n",
       "      <th></th>\n",
       "      <th>user_uid</th>\n",
       "      <th>element_uid</th>\n",
       "      <th>rating</th>\n",
       "      <th>ts</th>\n",
       "    </tr>\n",
       "  </thead>\n",
       "  <tbody>\n",
       "    <tr>\n",
       "      <th>0</th>\n",
       "      <td>571252</td>\n",
       "      <td>1364</td>\n",
       "      <td>10</td>\n",
       "      <td>4.430517e+07</td>\n",
       "    </tr>\n",
       "    <tr>\n",
       "      <th>1</th>\n",
       "      <td>63140</td>\n",
       "      <td>3037</td>\n",
       "      <td>10</td>\n",
       "      <td>4.430514e+07</td>\n",
       "    </tr>\n",
       "    <tr>\n",
       "      <th>2</th>\n",
       "      <td>443817</td>\n",
       "      <td>4363</td>\n",
       "      <td>8</td>\n",
       "      <td>4.430514e+07</td>\n",
       "    </tr>\n",
       "    <tr>\n",
       "      <th>3</th>\n",
       "      <td>359870</td>\n",
       "      <td>1364</td>\n",
       "      <td>10</td>\n",
       "      <td>4.430506e+07</td>\n",
       "    </tr>\n",
       "    <tr>\n",
       "      <th>4</th>\n",
       "      <td>359870</td>\n",
       "      <td>3578</td>\n",
       "      <td>9</td>\n",
       "      <td>4.430506e+07</td>\n",
       "    </tr>\n",
       "  </tbody>\n",
       "</table>\n",
       "</div>"
      ],
      "text/plain": [
       "   user_uid  element_uid  rating            ts\n",
       "0    571252         1364      10  4.430517e+07\n",
       "1     63140         3037      10  4.430514e+07\n",
       "2    443817         4363       8  4.430514e+07\n",
       "3    359870         1364      10  4.430506e+07\n",
       "4    359870         3578       9  4.430506e+07"
      ]
     },
     "execution_count": 170,
     "metadata": {
      "tags": []
     },
     "output_type": "execute_result"
    }
   ],
   "source": [
    "ratings.head()"
   ]
  },
  {
   "cell_type": "code",
   "execution_count": 0,
   "metadata": {
    "colab": {},
    "colab_type": "code",
    "id": "qQNHDxtEzd_F",
    "outputId": "6bd7d0b9-a0c4-43d1-8d5c-e1ac21abe5c1"
   },
   "outputs": [
    {
     "data": {
      "text/plain": [
       "(438790, 4)"
      ]
     },
     "execution_count": 171,
     "metadata": {
      "tags": []
     },
     "output_type": "execute_result"
    }
   ],
   "source": [
    "ratings.shape"
   ]
  },
  {
   "cell_type": "markdown",
   "metadata": {
    "colab_type": "text",
    "id": "6bbAwVDVzd_H"
   },
   "source": [
    " - `rating` — поставленный пользователем рейтинг (от `0` до `10`)."
   ]
  },
  {
   "cell_type": "markdown",
   "metadata": {
    "colab_type": "text",
    "id": "WJbYVuRdzd_H"
   },
   "source": [
    "Далее будем обучать модель на долю времени просмотра фильма. Для этого к матрице `transactions` добавим информацию о длительности фильма."
   ]
  },
  {
   "cell_type": "code",
   "execution_count": 0,
   "metadata": {
    "colab": {},
    "colab_type": "code",
    "id": "TlbHyIBDzd_I"
   },
   "outputs": [],
   "source": [
    "transactions = transactions.merge(catalogue, how='left', on='element_uid')"
   ]
  },
  {
   "cell_type": "markdown",
   "metadata": {
    "colab_type": "text",
    "id": "-shep0Lgzd_K"
   },
   "source": [
    " В колонке `transactions['duration']` могут быть нули, так как значения округляются до ближайшей десятки. Поэтому добавим 10 ко всем значениям. И умножим все значения `transactions['duration']` на 60, чтобы перевести в секунды. "
   ]
  },
  {
   "cell_type": "code",
   "execution_count": 0,
   "metadata": {
    "colab": {},
    "colab_type": "code",
    "id": "Y0YgV8tSzd_K"
   },
   "outputs": [],
   "source": [
    "transactions.loc[:, 'duration'] += 10\n",
    "transactions['duration']  = transactions['duration']*60"
   ]
  },
  {
   "cell_type": "markdown",
   "metadata": {
    "colab_type": "text",
    "id": "pTxDStAGzd_N"
   },
   "source": [
    "Для простоты вычислений далее будем использовать не всех пользователей."
   ]
  },
  {
   "cell_type": "code",
   "execution_count": 0,
   "metadata": {
    "colab": {},
    "colab_type": "code",
    "id": "JgdowSayzd_N"
   },
   "outputs": [],
   "source": [
    "transactions_small = transactions.loc[transactions.user_uid < transactions.user_uid.quantile(.01)]"
   ]
  },
  {
   "cell_type": "code",
   "execution_count": 0,
   "metadata": {
    "colab": {},
    "colab_type": "code",
    "id": "sm8K1V1czd_P",
    "outputId": "e14aa07c-52ca-48e2-dc81-bd951a2314fc"
   },
   "outputs": [
    {
     "data": {
      "text/plain": [
       "8296"
      ]
     },
     "execution_count": 175,
     "metadata": {
      "tags": []
     },
     "output_type": "execute_result"
    }
   ],
   "source": [
    "transactions.element_uid.nunique()"
   ]
  },
  {
   "cell_type": "markdown",
   "metadata": {
    "colab_type": "text",
    "id": "VGXzbH9uzd_S"
   },
   "source": [
    "Чтобы оценивать качество предсказаний построенных алгоритмов, разобьем данные на обучающую и тестовую выборки. Для этого вычислим 75-й перцентиль признака `ts` и разделим данные `transactions_small` во времени, так, чтобы в обучающую выборку попало 75% данных, а в тестовую — остальные 25%."
   ]
  },
  {
   "cell_type": "code",
   "execution_count": 0,
   "metadata": {
    "colab": {},
    "colab_type": "code",
    "id": "l8ayIVfkzd_S"
   },
   "outputs": [],
   "source": [
    "transactions_test = transactions_small.loc[transactions_small.ts > transactions_small.ts.quantile(.75)].reset_index()\n",
    "transactions_train = transactions_small.loc[transactions_small.ts < transactions_small.ts.quantile(.75)].reset_index()"
   ]
  },
  {
   "cell_type": "code",
   "execution_count": 0,
   "metadata": {
    "colab": {},
    "colab_type": "code",
    "id": "j__Uy4WKzd_U",
    "outputId": "c27c9bc9-6006-4d76-ee38-e87aa217fe37"
   },
   "outputs": [
    {
     "data": {
      "text/plain": [
       "(72319, 17)"
      ]
     },
     "execution_count": 177,
     "metadata": {
      "tags": []
     },
     "output_type": "execute_result"
    }
   ],
   "source": [
    "transactions_train.shape"
   ]
  },
  {
   "cell_type": "code",
   "execution_count": 0,
   "metadata": {
    "colab": {},
    "colab_type": "code",
    "id": "gHLrq-7Xzd_W",
    "outputId": "d1acbf38-89b6-4c99-e8c5-6544bcfadb4e"
   },
   "outputs": [
    {
     "data": {
      "text/plain": [
       "4498"
      ]
     },
     "execution_count": 178,
     "metadata": {
      "tags": []
     },
     "output_type": "execute_result"
    }
   ],
   "source": [
    "transactions_train.user_uid.nunique()"
   ]
  },
  {
   "cell_type": "code",
   "execution_count": 0,
   "metadata": {
    "colab": {},
    "colab_type": "code",
    "id": "uW7kC277zd_Y",
    "outputId": "c0f80bef-bef9-4139-bab2-e030ea15554e"
   },
   "outputs": [
    {
     "data": {
      "text/plain": [
       "2733"
      ]
     },
     "execution_count": 179,
     "metadata": {
      "tags": []
     },
     "output_type": "execute_result"
    }
   ],
   "source": [
    "transactions_test.user_uid.nunique()"
   ]
  },
  {
   "cell_type": "markdown",
   "metadata": {
    "colab_type": "text",
    "id": "Qy0FB-x9zd_a"
   },
   "source": [
    "Данные `ratings` тоже необходимо сократить и исключить оценки из тестовой части:"
   ]
  },
  {
   "cell_type": "code",
   "execution_count": 0,
   "metadata": {
    "colab": {},
    "colab_type": "code",
    "id": "OwWrm6Nozd_b",
    "outputId": "c79e3f28-4ca5-4576-d159-8c296ab638b4"
   },
   "outputs": [
    {
     "name": "stderr",
     "output_type": "stream",
     "text": [
      "438790it [00:01, 331779.01it/s]\n"
     ]
    }
   ],
   "source": [
    "test_user_ids = set(transactions_test[['element_uid', 'user_uid']].itertuples(index=False))\n",
    "train_user_ids = set(transactions_train[['element_uid', 'user_uid']].itertuples(index=False))\n",
    "drop_index = []\n",
    "for row in tqdm.tqdm(ratings.itertuples()):\n",
    "    if (row.element_uid, row.user_uid) in test_user_ids or not (row.element_uid, row.user_uid) in train_user_ids:\n",
    "        drop_index.append(row.Index)"
   ]
  },
  {
   "cell_type": "code",
   "execution_count": 0,
   "metadata": {
    "colab": {},
    "colab_type": "code",
    "id": "H7o8HuO-zd_d"
   },
   "outputs": [],
   "source": [
    "ratings.drop(drop_index, inplace=True)\n",
    "ratings.reset_index(inplace=True)"
   ]
  },
  {
   "cell_type": "code",
   "execution_count": 0,
   "metadata": {
    "colab": {},
    "colab_type": "code",
    "id": "nE20z4xHzd_e",
    "outputId": "9391b50c-85db-4623-e687-17e33ad6cf60"
   },
   "outputs": [
    {
     "data": {
      "text/plain": [
       "(2836, 5)"
      ]
     },
     "execution_count": 183,
     "metadata": {
      "tags": []
     },
     "output_type": "execute_result"
    }
   ],
   "source": [
    "ratings.shape"
   ]
  },
  {
   "cell_type": "markdown",
   "metadata": {
    "colab_type": "text",
    "id": "kbtkeIwmzd_h"
   },
   "source": [
    "На выделенной обучающей выборке необходимо обучить рекомендательную систему и предсказать top-20 наиболее релевантных для пользователя идентификаторов контента."
   ]
  },
  {
   "cell_type": "markdown",
   "metadata": {
    "colab_type": "text",
    "id": "aQkWEnkuzd_i"
   },
   "source": [
    "Получим значение целевой переменной для итогового алгоритма — долю времени просмотра фильма:"
   ]
  },
  {
   "cell_type": "code",
   "execution_count": 0,
   "metadata": {
    "colab": {},
    "colab_type": "code",
    "id": "vFJBtkhvzd_i"
   },
   "outputs": [],
   "source": [
    "transactions_train['target'] = transactions_train.watched_time/transactions_train.duration"
   ]
  },
  {
   "cell_type": "code",
   "execution_count": 0,
   "metadata": {
    "colab": {},
    "colab_type": "code",
    "id": "23uNG7qNzd_k"
   },
   "outputs": [],
   "source": [
    "transactions_test['target'] = transactions_test.watched_time/transactions_test.duration"
   ]
  },
  {
   "cell_type": "markdown",
   "metadata": {
    "colab_type": "text",
    "id": "-ybEsW4Zzd_m"
   },
   "source": [
    "В поле `target` присутствуют значения больше 1, так как для сериалов и многосерийных фильмов используется средняя длина серии — заменим в таких случаях целевую переменную на 1:"
   ]
  },
  {
   "cell_type": "code",
   "execution_count": 0,
   "metadata": {
    "colab": {},
    "colab_type": "code",
    "id": "v3SRG0JNzd_m"
   },
   "outputs": [],
   "source": [
    "transactions_train.loc[transactions_train['target'] > 1, 'target'] = 1\n",
    "transactions_test.loc[transactions_test['target'] > 1, 'target'] = 1"
   ]
  },
  {
   "cell_type": "markdown",
   "metadata": {
    "colab_type": "text",
    "id": "A9-jBmtbpEj4"
   },
   "source": [
    "Далее в задании везде будем обозначать как $r_{ui}$ значение этой целевой переменной для пользователя $u$ и элемента $i$."
   ]
  },
  {
   "cell_type": "markdown",
   "metadata": {
    "colab_type": "text",
    "id": "qVBoJBhGzd_o"
   },
   "source": [
    "### Задание 0"
   ]
  },
  {
   "cell_type": "markdown",
   "metadata": {
    "colab_type": "text",
    "id": "6iuGXmRVzd_o"
   },
   "source": [
    "Для оценки качества предсказаний будем использовать метрику $MNAP@20$, которую использовали в соревновании.\n",
    "Метрика отличается от оригинальной $MAP$ тем, что значение для каждого пользователя нормализуется не на константу, а на число потреблённых фильмов. Таким образом, вес угадывания одного фильма больше у пользователей, имеющих меньшее число просмотров.\n"
   ]
  },
  {
   "cell_type": "markdown",
   "metadata": {
    "colab_type": "text",
    "id": "pA5xOcMszd_p"
   },
   "source": [
    "$$MNAP@20 = \\dfrac{1}{|U|}\\sum_{u\\in U}\\dfrac{1}{\\min(n_u, 20)}\\sum_{i=1}^{20}r_u(i)p_u@i $$\n",
    "$$p_u@k = \\dfrac{1}{k}\\sum_{j=1}^kr_u(j)$$\n",
    "- $r_{u}(i)$ — потребил ли пользователь u контент, предсказанный ему на месте i (1 либо 0);\n",
    "- $n_u$ — количество элементов, которые пользователь потребил за тестовый период;\n",
    "- $U$ — множество тестовых пользователей."
   ]
  },
  {
   "cell_type": "markdown",
   "metadata": {
    "colab_type": "text",
    "id": "TI3trSg4zd_p"
   },
   "source": [
    "Реализуйте функцию `mnap_k`, вычисляющую метрику качества $MNAP@K$, где\n",
    "\n",
    "- `predictions` — предсказания фильмов для пользователей  `List[List[int]]`;\n",
    "\n",
    "- `target` — фильмы которые посмотрел пользователь  `List[Set[int]]`."
   ]
  },
  {
   "cell_type": "code",
   "execution_count": 0,
   "metadata": {
    "colab": {},
    "colab_type": "code",
    "id": "rQvuE_HLzd_p"
   },
   "outputs": [],
   "source": [
    "def mnap_k(predictions, target, k=20):\n",
    "    #╰( ͡° ͜ʖ ͡° )つ──☆*:・\n",
    "    return\n"
   ]
  },
  {
   "cell_type": "markdown",
   "metadata": {
    "colab_type": "text",
    "id": "8uJNSDFoiZuV"
   },
   "source": [
    "Проведем элементарные проверки на корректность реализации:"
   ]
  },
  {
   "cell_type": "code",
   "execution_count": 0,
   "metadata": {
    "colab": {},
    "colab_type": "code",
    "id": "heIHem9xzd_s"
   },
   "outputs": [],
   "source": [
    "test = [list(np.arange(1, 21)), list(np.arange(2, 22)), list(np.arange(3, 23))]\n",
    "target = [set(np.arange(1, 21)), set(np.arange(2, 22)), set(np.arange(3, 23))]\n",
    "assert mnap_k(test, target) == 1.0"
   ]
  },
  {
   "cell_type": "code",
   "execution_count": 0,
   "metadata": {
    "colab": {},
    "colab_type": "code",
    "id": "wDoKdDcxzd_w"
   },
   "outputs": [],
   "source": [
    "test = [list(np.arange(1, 21)), list(np.arange(2, 22)), list(np.arange(3, 23))]\n",
    "target = [set(np.arange(1, 11)), set(np.arange(2, 12)), set(np.arange(3, 13))]\n",
    "assert mnap_k(test, target) == 1.0"
   ]
  },
  {
   "cell_type": "code",
   "execution_count": 0,
   "metadata": {
    "colab": {},
    "colab_type": "code",
    "id": "_yO37uI7zd_y"
   },
   "outputs": [],
   "source": [
    "test = [list(np.arange(1, 21)), list(np.arange(2, 22)), list(np.arange(3, 23))]\n",
    "target = [set(np.arange(2, 21)), set(np.arange(2, 22)), set(np.arange(3, 23))]\n",
    "assert round(mnap_k(test, target), 3) == 0.954"
   ]
  },
  {
   "cell_type": "markdown",
   "metadata": {
    "colab_type": "text",
    "id": "i2XOj-gmzd_0"
   },
   "source": [
    "### Задание 1"
   ]
  },
  {
   "cell_type": "markdown",
   "metadata": {
    "colab_type": "text",
    "id": "0NIJZnnUzd_0"
   },
   "source": [
    "\n",
    "\n",
    "#### Memory-based\n",
    "Два пользователя похожи, если им нравятся одинаковые фильмы.\n",
    "Рассмотрим двух пользователей $u$ и $v$ и обозначим через $I_{uv}$ множество фильмов $i$, которые просмотрели пользователи:\n",
    "$$\n",
    "    I_{uv}\n",
    "    =\n",
    "    \\{\n",
    "        i \\in I\n",
    "        |\n",
    "        \\exists r_{ui}\n",
    "        \\ \\&\\ \n",
    "        \\exists r_{vi}\n",
    "    \\}.\n",
    "$$\n",
    "Тогда сходство двух данных пользователей можно вычислить через корреляцию Пирсона:\n",
    "$$\n",
    "    w_{uv}\n",
    "    =\n",
    "    \\frac{\n",
    "        \\sum_{i \\in I_{uv}}\n",
    "            (r_{ui} - \\bar r_u)\n",
    "            (r_{vi} - \\bar r_v)\n",
    "    }{\n",
    "        \\sqrt{\n",
    "        \\sum_{i \\in I_{uv}}\n",
    "            (r_{ui} - \\bar r_u)^2\n",
    "        }\n",
    "        \\sqrt{\n",
    "        \\sum_{i \\in I_{uv}}\n",
    "            (r_{vi} - \\bar r_v)^2\n",
    "        }\n",
    "    },\n",
    "$$\n",
    "где $\\bar r_u$ и $\\bar r_v$ — средняя доля времени просмотра фильма для пользователей.\n",
    "\n",
    "Чтобы вычислять сходства между элементами $i$ и $j$, введём множество пользователей $U_{ij}$, для которых известны целевые переменные для этих элементов:\n",
    "$$\n",
    "    U_{ij}\n",
    "    =\n",
    "    \\{\n",
    "        u \\in U\n",
    "        |\n",
    "        \\exists r_{ui}\n",
    "        \\ \\&\\ \n",
    "        \\exists r_{uj}\n",
    "    \\}.\n",
    "$$\n",
    "Тогда сходство двух данных товаров можно вычислить через корреляцию Пирсона:\n",
    "$$\n",
    "    w_{ij}\n",
    "    =\n",
    "    \\frac{\n",
    "        \\sum_{u \\in U_{ij}}\n",
    "            (r_{ui} - \\bar r_i)\n",
    "            (r_{uj} - \\bar r_j)\n",
    "    }{\n",
    "        \\sqrt{\n",
    "        \\sum_{u \\in U_{ij}}\n",
    "            (r_{ui} - \\bar r_i)^2\n",
    "        }\n",
    "        \\sqrt{\n",
    "        \\sum_{u \\in U_{ij}}\n",
    "            (r_{uj} - \\bar r_j)^2\n",
    "        }\n",
    "    },\n",
    "$$\n",
    "где $\\bar r_i$ и $\\bar r_j$ — средняя доля времени просмотра для фильмов"
   ]
  },
  {
   "cell_type": "markdown",
   "metadata": {
    "colab_type": "text",
    "id": "nIjHtixOzd_1"
   },
   "source": [
    "Реализуйте класс `MemoryBased` с методами:\n",
    "\n",
    "- `__init__` — конструктор класса, принимает на вход матрицу целевых переменных $r_{ui}$;\n",
    "- `user_similarity` — возвращает вектор $w_u$ сходства пользователя $u$ и всех пользователей из обучающей выборки; если пользователь $u$ не встречался в обучающей выборке, то возвращайте нулевой вектор;\n",
    "- `item_similarity` — возвращает вектор $w_i$ сходства фильма $i$ и всех фильмов из обучающей выборки; если фильм $i$ не встречался в обучающей выборке, то возвращайте нулевой вектор.\n",
    "\n",
    "\n",
    "\n",
    "Уделите особое внимание оптимизации кода. Используйте векторизацию и матричные вычисления, где это возможно."
   ]
  },
  {
   "cell_type": "code",
   "execution_count": 0,
   "metadata": {
    "colab": {},
    "colab_type": "code",
    "id": "EAAYmlfxzeAj"
   },
   "outputs": [],
   "source": [
    "class MemoryBased():\n",
    "    def __init__(self, ratings):\n",
    "        self.ratings = ratings\n",
    "        pass\n",
    "        \n",
    "    def user_similarity(self, test_user):\n",
    "      \"\"\"test_user - вектор соответствующий пользователю\"\"\"\n",
    "        #╰( ͡° ͜ʖ ͡° )つ──☆*:・\n",
    "        pass\n",
    "        \n",
    "    def item_similarity(self, test_item):\n",
    "      \"\"\"test_item - вектор соответствующий фильму\"\"\"\n",
    "        #╰( ͡° ͜ʖ ͡° )つ──☆*:・\n",
    "        pass\n",
    "        \n",
    "    "
   ]
  },
  {
   "cell_type": "markdown",
   "metadata": {
    "colab_type": "text",
    "id": "1e9cSjjpkIDi"
   },
   "source": [
    "Проведем элементарные проверки на корректность реализации:"
   ]
  },
  {
   "cell_type": "code",
   "execution_count": 0,
   "metadata": {
    "colab": {},
    "colab_type": "code",
    "id": "s4sVT6SDHERI"
   },
   "outputs": [],
   "source": [
    "I = np.array([[0.5, 0.4, 0, 0.1], \n",
    "         [0, 0.1, 0.2, 0.5], \n",
    "         [0.5, 0.5, 0.4, 0],\n",
    "         [0.5, 0.4, 0.5, 0.1]])\n",
    "item_based = MemoryBased(I)\n",
    "result = item_based.user_similarity(np.array([0.5, 0.4, 0, 0.1])\n",
    "assert np.all(np.round(result, 2) == np.array([1.0, -0.94, 0.92, 0.97]))"
   ]
  },
  {
   "cell_type": "markdown",
   "metadata": {
    "colab_type": "text",
    "id": "DrufT95YzeAl"
   },
   "source": [
    "### Задание 2"
   ]
  },
  {
   "cell_type": "markdown",
   "metadata": {
    "colab_type": "text",
    "id": "GgsrZEsFzeAm"
   },
   "source": [
    "#### User-Based\n",
    "В подходе на основе сходств пользователей\n",
    "определяется множество $U(u_0)$ пользователей, похожих на данного:\n",
    "$$\n",
    "    U(u_0)\n",
    "    =\n",
    "    \\{v \\in U\n",
    "        |\n",
    "        w_{u_0 v} > \\alpha\n",
    "    \\}.\n",
    "$$\n",
    "После этого для каждого товара вычисляется, как часто он покупался пользователями из $U(u_0)$:\n",
    "$$\n",
    "    p_{i}\n",
    "    =\n",
    "    \\frac{\n",
    "        |\\{u \\in U(u_0) | \\exists r_{ui}\\}|\n",
    "    }{\n",
    "        |U(u_0)|\n",
    "    }.\n",
    "$$\n",
    "Пользователю рекомендуются $k$ товаров с наибольшими значениями $p_i$.\n",
    "Данный подход позволяет строить рекомендации, если для данного пользователя найдутся похожие.\n",
    "Если же пользователь является нетипичным, то подобрать что-либо не получится."
   ]
  },
  {
   "cell_type": "markdown",
   "metadata": {
    "colab_type": "text",
    "id": "-yUQKULhzeAm"
   },
   "source": [
    "Реализуйте класс `UserBased`, наследованный от `MemoryBased`. Считайте, что $\\alpha = 0$.\n",
    "\n",
    "Класс `UserBased` должен иметь метод реализованный `recomendation_k` с параметром k, возвращающий матрицу предсказаний размера N x k (для каждого пользователя из user_vectors предсказывать top-k фильмов)."
   ]
  },
  {
   "cell_type": "code",
   "execution_count": 0,
   "metadata": {
    "colab": {},
    "colab_type": "code",
    "id": "9zd5AbaxzeAn"
   },
   "outputs": [],
   "source": [
    "class UserBased(MemoryBased):\n",
    "    def recomendation_k(self, user_vectors, k=20):\n",
    "      \"\"\"user_vectors - матрица размера N x M, где M - общее число фильмов, N - число пользователей, для которых делаем рекомендации\"\"\"\n",
    "        #╰( ͡° ͜ʖ ͡° )つ──☆*:・\n",
    "        pass\n",
    "    "
   ]
  },
  {
   "cell_type": "markdown",
   "metadata": {
    "colab_type": "text",
    "id": "Vxat_Wl_j-Y_"
   },
   "source": [
    "Проведем элементарные проверки на корректность реализации:"
   ]
  },
  {
   "cell_type": "code",
   "execution_count": 0,
   "metadata": {
    "colab": {},
    "colab_type": "code",
    "id": "TWt35KMtPROD"
   },
   "outputs": [],
   "source": [
    "I = np.array([[0.5, 0.4, 0, 0.1], \n",
    "         [0, 0.1, 0.2, 0.5], \n",
    "         [0.5, 0.5, 0.4, 0],\n",
    "         [0.5, 0.4, 0.5, 0.1]])\n",
    "item_based = UserBased(I)\n",
    "result = item_based.recomendation_k(np.array([0.5, 0.4, 0, 0.1]), k=1)\n",
    "assert np.all(result == np.array([2]))"
   ]
  },
  {
   "cell_type": "markdown",
   "metadata": {
    "colab_type": "text",
    "id": "3S4xZLDYzeAo"
   },
   "source": [
    "### Задание 3"
   ]
  },
  {
   "cell_type": "markdown",
   "metadata": {
    "colab_type": "text",
    "id": "iZkE_wDszeAo"
   },
   "source": [
    "#### Item-Based \n",
    "\n",
    "Определяется множество фильмов, похожих на те, которые интересовали данного пользователя:\n",
    "$$\n",
    "    I(u_0)\n",
    "    =\n",
    "    \\{\n",
    "        i \\in I\n",
    "        |\n",
    "        \\exists r_{u_0 i_0},\n",
    "        w_{i_0 i} > \\alpha\n",
    "    \\}.\n",
    "$$\n",
    "Затем для каждого товара из этого множества вычисляется его сходство с пользователем:\n",
    "$$\n",
    "    p_i\n",
    "    =\n",
    "    \\max_{i_0: \\exists r_{u_0 i_0}}\n",
    "    w_{i_0 i}.\n",
    "$$\n",
    "Пользователю рекомендуются $k$ фильмов с наибольшими значениями $p_i$.\n"
   ]
  },
  {
   "cell_type": "markdown",
   "metadata": {
    "colab_type": "text",
    "id": "WWncGdC2zeAo"
   },
   "source": [
    "Реализуйте класс `ItemBased`, наследованный от `MemoryBased`.\n",
    "\n",
    "Класс `ItemBased` должен иметь метод реализованный `recomendation_k` с параметром k, возвращающий матрицу предсказаний размера N x k (для каждого пользователя из user_vectors предсказывать top-k фильмов)."
   ]
  },
  {
   "cell_type": "code",
   "execution_count": 0,
   "metadata": {
    "colab": {},
    "colab_type": "code",
    "id": "h4aYDmiEzeAq"
   },
   "outputs": [],
   "source": [
    "class ItemBased(MemoryBased):\n",
    "    def recomendation_k(self, user_vectors, k=20):\n",
    "      \"\"\"user_vectors - матрица размера N x M, где M - общее число фильмов, N - число пользователей, для которых делаем рекомендации\"\"\"\n",
    "        #╰( ͡° ͜ʖ ͡° )つ──☆*:・\n",
    "        pass\n",
    "    "
   ]
  },
  {
   "cell_type": "code",
   "execution_count": 0,
   "metadata": {
    "colab": {},
    "colab_type": "code",
    "id": "_htPCpU65fiG"
   },
   "outputs": [],
   "source": []
  },
  {
   "cell_type": "markdown",
   "metadata": {
    "colab_type": "text",
    "id": "S5QehC_GzeAs"
   },
   "source": [
    "### Задание 4"
   ]
  },
  {
   "cell_type": "markdown",
   "metadata": {
    "colab_type": "text",
    "id": "Rz0ToXeWzeAs"
   },
   "source": [
    "Сформируйте матрицы $R = \\{r_{ui}\\}_{u \\in U, \\, i \\in I}$ по данным `transactions_train` и `transactions_test`, где $r_{ui}$ — доля времени взаимодействовия пользователя с фильмом.\n",
    "\n",
    "С помощью Item-Based и User-Based подходов получите предсказания для пользователей из тестовой выборки и оцените качество с помощью реализованной в задании 0 функции `mnap_k` при `k=20`."
   ]
  },
  {
   "cell_type": "code",
   "execution_count": 0,
   "metadata": {
    "colab": {},
    "colab_type": "code",
    "id": "j-CIK0uczeAt"
   },
   "outputs": [],
   "source": []
  },
  {
   "cell_type": "markdown",
   "metadata": {
    "colab_type": "text",
    "id": "Ysx3umr4zeAv"
   },
   "source": [
    "### Задание 5"
   ]
  },
  {
   "cell_type": "markdown",
   "metadata": {
    "colab_type": "text",
    "id": "ugwCfjQKzeAv"
   },
   "source": [
    "#### Latent factor model (LFM)"
   ]
  },
  {
   "cell_type": "markdown",
   "metadata": {
    "colab_type": "text",
    "id": "4WTN48_vzeAv"
   },
   "source": [
    "В этом подходе значение целовой переменной $r_{ui}$ пользователя $u$, поставленная фильму $i$, ищется как скалярное произведение векторов $p_u$ и $q_i$ в некотором пространстве $R^K$ латентных признаков:\n",
    "$$\n",
    "    r_{ui}\n",
    "    \\approx\n",
    "    \\langle p_u, q_i \\rangle.\n",
    "$$\n",
    "\n",
    "\n",
    "\n",
    "Иными словами, модель находит пространство признаков, в котором мы описываем и фильмы, и пользователей и в котором целевая переменная является мерой близости между фильмами и пользователями.\n",
    "\n",
    "Для настройки модели будем минимизировать следующий функционал:\n",
    "\n",
    "\\begin{equation}\n",
    "\\label{eq:lfmReg}\n",
    "    \\sum_{(u, i) \\in R}\n",
    "        \\left(\n",
    "            r_{ui}\n",
    "            - \\langle p_u, q_i \\rangle\n",
    "        \\right)^2\n",
    "    +\n",
    "    \\lambda\n",
    "    \\sum_{u \\in U}\n",
    "        \\|p_u\\|^2\n",
    "    +\n",
    "    \\mu\n",
    "    \\sum_{i \\in I}\n",
    "        \\|q_i\\|^2\n",
    "    \\to\n",
    "    \\min_{P, Q}\n",
    "\\end{equation}\n",
    "\n",
    "В [статье](https://dl.acm.org/doi/10.1145/1864708.1864726) описан метод оптимизации ALS (Alternating Least Squares) для данного функционала.\n",
    "В методе проводятся $N$ итераций, в рамках каждой итерации сначала оптимизируется $p$ при фиксированном\n",
    "$q$, затем $q$ при фиксированном $p$.\n",
    "\n",
    "Составим матрицу $P$ из векторов $p_u$ и матрицу $Q$ из векторов $q_i$. Матрицей $Q[u] \\in R^{n_u×K}$ будем обозначать подматрицу матрицы $Q$ только для товаров, оцененных пользователем $u$, где $n_u$ – количество оценок пользователя $u$.\n",
    "Шаг перенастройки $p_u$ при фиксированной матрице $Q$ сводится к настройке Ridge-регрессии и выглядит так:\n",
    "$$A_u = Q[u]^T Q[u] $$\n",
    "$$d_u = Q[u]^Tr_u $$\n",
    "$$p_u = (\\lambda n_uI + A_u)^{−1}d_u\n",
    "$$\n",
    "\n",
    "Выпишите формулы для перенастройки $q_i$ при фиксированной матрице $P$."
   ]
  },
  {
   "cell_type": "markdown",
   "metadata": {
    "colab_type": "text",
    "id": "SXdVq5eklLUR"
   },
   "source": [
    "**Ответ:**"
   ]
  },
  {
   "cell_type": "markdown",
   "metadata": {
    "colab_type": "text",
    "id": "8dsbMsLqzeAw"
   },
   "source": [
    "Реализуйте функцию `latent_factor`, которая для каждого пользователя из списка `test` возвращает top-k идентификаторов контента (`element_uid`).\n",
    "\n",
    "Для тестирования матрицы `P` и `Q` задайте случайными `0.1 * np.random.random(...)`.\n",
    "\n",
    "Исследуйте качество и время работы в зависимости от размерности $K$\n",
    "пространства латентных признаков. Ведет ли увеличение $K$ к переобучению?\n"
   ]
  },
  {
   "cell_type": "code",
   "execution_count": 0,
   "metadata": {
    "colab": {},
    "colab_type": "code",
    "id": "qPIoBGOmzeAw"
   },
   "outputs": [],
   "source": [
    "lambda_p = 0.2\n",
    "mu = 0.001\n",
    "N = 20\n",
    "K = 10"
   ]
  },
  {
   "cell_type": "code",
   "execution_count": 0,
   "metadata": {
    "colab": {},
    "colab_type": "code",
    "id": "z1n5FThezeAy"
   },
   "outputs": [],
   "source": [
    "train = transactions_train[['user_uid', 'element_uid']]\n",
    "target = transactions_train['target']\n",
    "test = transactions_test['user_uid'].unique()"
   ]
  },
  {
   "cell_type": "code",
   "execution_count": 0,
   "metadata": {
    "colab": {},
    "colab_type": "code",
    "id": "2R4wh7UEzeA0"
   },
   "outputs": [],
   "source": [
    "def latent_factor(train, target, test, lambda_, mu, N, K, P, Q, k = 20):\n",
    "    #╰( ͡° ͜ʖ ͡° )つ──☆*:・\n",
    "    pass"
   ]
  },
  {
   "cell_type": "code",
   "execution_count": 0,
   "metadata": {
    "colab": {},
    "colab_type": "code",
    "id": "rrvd3O-1XuMN"
   },
   "outputs": [],
   "source": [
    "train = pd.DataFrame({'user_uid': [1, 1, 2, 2], 'element_uid': [1, 2, 3, 4]})\n",
    "target =  np.array( [0.1, 0.8, 0.2, 0.3 ])\n",
    "test = np.array([1, 2])\n",
    "lambda_p = 0.2\n",
    "mu = 0.001\n",
    "N = 20\n",
    "K = 10\n",
    "us = train.loc[:,'user_uid'].astype('int')\n",
    "mov = train.loc[:,'element_uid'].astype('int')\n",
    "U = np.unique(us)\n",
    "I = np.unique(mov)\n",
    "Q = 0.1 * np.ones((I.max(), K))\n",
    "P = 0.1 * np.ones((U.max(), K))\n",
    "assert np.all(latent_factor(train, target, test, lambda_, mu, N, K, P, Q, k = 20) == np.array([[2], [2]]))"
   ]
  },
  {
   "cell_type": "markdown",
   "metadata": {
    "colab_type": "text",
    "id": "Rw6aMTldzeA1"
   },
   "source": [
    "Оцените  качество разботы функции `latent_factor` на тестовой выборке по метрике `mnap_k` при `k=20`."
   ]
  },
  {
   "cell_type": "markdown",
   "metadata": {
    "colab_type": "text",
    "id": "rK1NaPMRzeA1"
   },
   "source": [
    "### Задание 6"
   ]
  },
  {
   "cell_type": "markdown",
   "metadata": {
    "colab_type": "text",
    "id": "s3gLHHM6zeA1"
   },
   "source": [
    "#### Content-based"
   ]
  },
  {
   "cell_type": "markdown",
   "metadata": {
    "colab_type": "text",
    "id": "D3TsV2WgzeA1"
   },
   "source": [
    "В соревновании осталось много неиспользуемых нами данных. \n",
    "Сформируйте из них признаковое описание пары (пользователь, фильм), придумав минимум 10 содержательных (!) признаков. Целевой переменной, как и раньше, будет являться доля времени взаимодействия пользователя и фильма. Соберите данные, обучите на полученных данных линейную регрессию и градиентный бустинг. \n",
    "Для каждого пользователя из тестовой выборки предскажите 20 фильмов, с максимальной долей времени взаимодействия. Оцените качество предсказания с помощью функции `mnap_k` при `k=20`. Какого качество удалось достичь?"
   ]
  },
  {
   "cell_type": "code",
   "execution_count": 0,
   "metadata": {
    "colab": {},
    "colab_type": "code",
    "id": "A19RtJ-TzeA2"
   },
   "outputs": [],
   "source": []
  },
  {
   "cell_type": "markdown",
   "metadata": {
    "colab_type": "text",
    "id": "ixbA0kdAcLGs"
   },
   "source": [
    "### Бонусное задание [3+ бонусных балла]\n",
    "\n",
    "Используя любые данные из [конкурса](https://boosters.pro/championship/rekko_sand/overview), постройте предсказания для тестовой выборки из соревнования, отправьте свое решение и преодолейте в лидерборде порог `0.03`.\n",
    "\n",
    "Подробно опишите ваше решение.\n",
    "\n",
    "За преодоление порога вы можете получить от 3 баллов — конкретный балл будет зависеть от качества решения по сравнению с другими студентами, также выполнившими это задание."
   ]
  },
  {
   "cell_type": "code",
   "execution_count": 0,
   "metadata": {
    "colab": {},
    "colab_type": "code",
    "id": "8RPNcurndbaF"
   },
   "outputs": [],
   "source": []
  }
 ],
 "metadata": {
  "colab": {
   "collapsed_sections": [],
   "name": "homework-practice-10-recommendations.ipynb",
   "provenance": []
  },
  "kernelspec": {
   "display_name": "Python 3",
   "language": "python",
   "name": "python3"
  },
  "language_info": {
   "codemirror_mode": {
    "name": "ipython",
    "version": 3
   },
   "file_extension": ".py",
   "mimetype": "text/x-python",
   "name": "python",
   "nbconvert_exporter": "python",
   "pygments_lexer": "ipython3",
   "version": "3.7.3"
  }
 },
 "nbformat": 4,
 "nbformat_minor": 1
}
